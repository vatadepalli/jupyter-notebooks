{
 "cells": [
  {
   "cell_type": "markdown",
   "id": "76bc0d16",
   "metadata": {},
   "source": [
    "# BASICS"
   ]
  },
  {
   "cell_type": "markdown",
   "id": "094a708a",
   "metadata": {},
   "source": [
    "## Python List - to - Numpy Array"
   ]
  },
  {
   "cell_type": "code",
   "execution_count": 1,
   "id": "83afdda6",
   "metadata": {},
   "outputs": [
    {
     "name": "stdout",
     "output_type": "stream",
     "text": [
      "array([-1.,  2.,  5.], dtype=float32)\n",
      "array([[0., 1., 2.],\n",
      "       [3., 4., 5.]], dtype=float32)\n"
     ]
    }
   ],
   "source": [
    "import numpy as np  # import the NumPy library\n",
    "arr = np.array([-1, 2, 5], dtype=np.float32)\n",
    "\n",
    "arr2d = np.array([[0, 1, 2], [3, 4, 5]],\n",
    "               dtype=np.float32)\n",
    "\n",
    "print(repr(arr))\n",
    "print(repr(arr2d))"
   ]
  },
  {
   "cell_type": "markdown",
   "id": "971434d3",
   "metadata": {},
   "source": [
    "* When there are heterogenous elements, all the element will be upcast to the highest level type."
   ]
  },
  {
   "cell_type": "code",
   "execution_count": 2,
   "id": "8061ea71",
   "metadata": {},
   "outputs": [
    {
     "name": "stdout",
     "output_type": "stream",
     "text": [
      "array([0. , 0.1, 2. ])\n"
     ]
    }
   ],
   "source": [
    "arr = np.array([0, 0.1, 2])\n",
    "print(repr(arr))"
   ]
  },
  {
   "cell_type": "markdown",
   "id": "8ee8bcda",
   "metadata": {},
   "source": [
    "## Copying Numpy Arrays"
   ]
  },
  {
   "cell_type": "code",
   "execution_count": 3,
   "id": "7cb0b7d8",
   "metadata": {},
   "outputs": [
    {
     "name": "stdout",
     "output_type": "stream",
     "text": [
      "Array b: array([9, 8])\n",
      "Array b: array([ 9, 11])\n",
      "Array d: array([9, 8])\n"
     ]
    }
   ],
   "source": [
    "b = np.array([9, 8])\n",
    "d = b.copy()\n",
    "\n",
    "print('Array b: {}'.format(repr(b)))\n",
    "b[1] = 11\n",
    "print('Array b: {}'.format(repr(b)))\n",
    "print('Array d: {}'.format(repr(d)))"
   ]
  },
  {
   "cell_type": "markdown",
   "id": "492ca9c0",
   "metadata": {},
   "source": [
    "## Type Casting"
   ]
  },
  {
   "cell_type": "code",
   "execution_count": 4,
   "id": "6cb26647",
   "metadata": {},
   "outputs": [
    {
     "name": "stdout",
     "output_type": "stream",
     "text": [
      "int64\n",
      "float32\n"
     ]
    }
   ],
   "source": [
    "arr = np.array([0, 1, 2])\n",
    "print(arr.dtype)\n",
    "\n",
    "# Explicit Typecasting\n",
    "arr = arr.astype(np.float32)\n",
    "print(arr.dtype)"
   ]
  },
  {
   "cell_type": "markdown",
   "id": "5acee153",
   "metadata": {},
   "source": [
    "## NaN"
   ]
  },
  {
   "cell_type": "code",
   "execution_count": 5,
   "id": "6180ec67",
   "metadata": {},
   "outputs": [
    {
     "name": "stdout",
     "output_type": "stream",
     "text": [
      "array([nan,  1.,  2.])\n"
     ]
    }
   ],
   "source": [
    "arr = np.array([np.nan, 1, 2])\n",
    "print(repr(arr))"
   ]
  },
  {
   "cell_type": "markdown",
   "id": "be4f481a",
   "metadata": {},
   "source": [
    "* np.nan cannot take on an integer type."
   ]
  },
  {
   "cell_type": "code",
   "execution_count": 6,
   "id": "73b308d9",
   "metadata": {},
   "outputs": [
    {
     "ename": "ValueError",
     "evalue": "cannot convert float NaN to integer",
     "output_type": "error",
     "traceback": [
      "\u001b[0;31m\u001b[0m",
      "\u001b[0;31mValueError\u001b[0mTraceback (most recent call last)",
      "\u001b[0;32m<ipython-input-6-6ca1dd662c51>\u001b[0m in \u001b[0;36m<module>\u001b[0;34m\u001b[0m\n\u001b[1;32m      1\u001b[0m \u001b[0;31m# Will result in a ValueError\u001b[0m\u001b[0;34m\u001b[0m\u001b[0;34m\u001b[0m\u001b[0;34m\u001b[0m\u001b[0m\n\u001b[0;32m----> 2\u001b[0;31m \u001b[0mnp\u001b[0m\u001b[0;34m.\u001b[0m\u001b[0marray\u001b[0m\u001b[0;34m(\u001b[0m\u001b[0;34m[\u001b[0m\u001b[0mnp\u001b[0m\u001b[0;34m.\u001b[0m\u001b[0mnan\u001b[0m\u001b[0;34m,\u001b[0m \u001b[0;36m1\u001b[0m\u001b[0;34m,\u001b[0m \u001b[0;36m2\u001b[0m\u001b[0;34m]\u001b[0m\u001b[0;34m,\u001b[0m \u001b[0mdtype\u001b[0m\u001b[0;34m=\u001b[0m\u001b[0mnp\u001b[0m\u001b[0;34m.\u001b[0m\u001b[0mint32\u001b[0m\u001b[0;34m)\u001b[0m\u001b[0;34m\u001b[0m\u001b[0;34m\u001b[0m\u001b[0m\n\u001b[0m",
      "\u001b[0;31mValueError\u001b[0m: cannot convert float NaN to integer"
     ]
    }
   ],
   "source": [
    "# Will result in a ValueError\n",
    "np.array([np.nan, 1, 2], dtype=np.int32)"
   ]
  },
  {
   "cell_type": "markdown",
   "id": "bc5194c9",
   "metadata": {},
   "source": [
    "## Infinity"
   ]
  },
  {
   "cell_type": "code",
   "execution_count": null,
   "id": "df4c4f43",
   "metadata": {
    "scrolled": true
   },
   "outputs": [],
   "source": [
    "print(np.inf > 1000000)\n",
    "\n",
    "arr = np.array([np.inf, 5])\n",
    "print(repr(arr))\n",
    "\n",
    "arr = np.array([-np.inf, 1])\n",
    "print(repr(arr))"
   ]
  },
  {
   "cell_type": "markdown",
   "id": "e1321e55",
   "metadata": {},
   "source": [
    " * np.inf cannot take on an integer type."
   ]
  },
  {
   "cell_type": "code",
   "execution_count": null,
   "id": "a09adc3f",
   "metadata": {},
   "outputs": [],
   "source": [
    "# Will result in an OverflowError\n",
    "np.array([np.inf, 3], dtype=np.int32)"
   ]
  },
  {
   "cell_type": "markdown",
   "id": "6d159b73",
   "metadata": {},
   "source": [
    "## Ranged Data\n",
    "\n",
    "* arange\n",
    "* linspace"
   ]
  },
  {
   "cell_type": "code",
   "execution_count": null,
   "id": "8319a39f",
   "metadata": {},
   "outputs": [],
   "source": [
    "arr = np.arange(5)\n",
    "print(repr(arr))\n",
    "\n",
    "arr = np.arange(5.1)\n",
    "print(repr(arr))\n",
    "\n",
    "arr = np.arange(-1, 4)\n",
    "print(repr(arr))\n",
    "\n",
    "arr = np.arange(-1.5, 4, 2)\n",
    "print(repr(arr))"
   ]
  },
  {
   "cell_type": "code",
   "execution_count": null,
   "id": "a8ecc920",
   "metadata": {},
   "outputs": [],
   "source": [
    "arr = np.linspace(5, 11, num=4) # Linspace Includes End\n",
    "print(repr(arr))\n",
    "\n",
    "points = np.linspace(-3.5, 1.5, num = 101)\n",
    "print(repr(points))\n",
    "\n",
    "arr = np.linspace(5, 11, num=4, endpoint=False) # Linspace Includes End = Unless endpoint set to False\n",
    "print(repr(arr))\n",
    "\n",
    "arr = np.linspace(5, 11, num=4, dtype=np.int32) # Linspace can take dtype\n",
    "print(repr(arr))"
   ]
  },
  {
   "cell_type": "markdown",
   "id": "2bb40463",
   "metadata": {},
   "source": [
    "## Reshaping Data\n",
    "\n",
    "* It takes in an array and a new shape as required arguments. The new shape must exactly contain all the elements from the input array.\n",
    "* For example, we could reshape an array with 12 elements to (4, 3), but we can't reshape it to (4, 4).\n",
    "* We are allowed to use the special value of -1 in at most one dimension of the new shape. The dimension with -1 will take on the value necessary to allow the new shape to contain all the elements of the array."
   ]
  },
  {
   "cell_type": "code",
   "execution_count": null,
   "id": "02c64846",
   "metadata": {},
   "outputs": [],
   "source": [
    "arr = np.arange(8)\n",
    "\n",
    "reshaped_arr = np.reshape(arr, (2, 4))\n",
    "print(repr(reshaped_arr))\n",
    "print('New shape: {}'.format(reshaped_arr.shape))\n",
    "\n",
    "reshaped_arr = np.reshape(arr, (-1, 2, 2))\n",
    "print(repr(reshaped_arr))\n",
    "print('New shape: {}'.format(reshaped_arr.shape))"
   ]
  },
  {
   "cell_type": "markdown",
   "id": "6e90ee4c",
   "metadata": {},
   "source": [
    "## Flatten"
   ]
  },
  {
   "cell_type": "code",
   "execution_count": null,
   "id": "fb8fb7f4",
   "metadata": {},
   "outputs": [],
   "source": [
    "arr = np.arange(8)\n",
    "arr = np.reshape(arr, (2, 4))\n",
    "flattened = arr.flatten()\n",
    "print(repr(arr))\n",
    "print('arr shape: {}'.format(arr.shape))\n",
    "print(repr(flattened))\n",
    "print('flattened shape: {}'.format(flattened.shape))"
   ]
  },
  {
   "cell_type": "markdown",
   "id": "83839141",
   "metadata": {},
   "source": [
    "## Transposing"
   ]
  },
  {
   "cell_type": "code",
   "execution_count": null,
   "id": "19c9f1af",
   "metadata": {},
   "outputs": [],
   "source": [
    "arr = np.arange(8)\n",
    "arr = np.reshape(arr, (4, 2))\n",
    "transposed = np.transpose(arr)\n",
    "print(repr(arr))\n",
    "print('arr shape: {}'.format(arr.shape))\n",
    "print(repr(transposed))\n",
    "print('transposed shape: {}'.format(transposed.shape))"
   ]
  },
  {
   "cell_type": "code",
   "execution_count": null,
   "id": "a823f9e5",
   "metadata": {},
   "outputs": [],
   "source": [
    "arr = np.arange(24)\n",
    "print(repr(arr))\n",
    "arr = np.reshape(arr, (3, 4, 2))\n",
    "print(repr(arr))\n",
    "transposed = np.transpose(arr, axes=(1, 2, 0)) # To specify where the switching happens\n",
    "print(repr(transposed))\n",
    "print('arr shape: {}'.format(arr.shape))\n",
    "print('transposed shape: {}'.format(transposed.shape))"
   ]
  },
  {
   "cell_type": "markdown",
   "id": "a58948f9",
   "metadata": {},
   "source": [
    "## Zeroes and Ones"
   ]
  },
  {
   "cell_type": "code",
   "execution_count": null,
   "id": "d0255ad0",
   "metadata": {},
   "outputs": [],
   "source": [
    "arr = np.zeros(4)\n",
    "print(repr(arr))\n",
    "\n",
    "arr = np.ones((2, 3))\n",
    "print(repr(arr))\n",
    "\n",
    "arr = np.ones((2, 3), dtype=np.int32)\n",
    "print(repr(arr))\n",
    "\n",
    "ones_arr = np.ones_like(transposed)\n",
    "print(repr(ones_arr))"
   ]
  },
  {
   "cell_type": "markdown",
   "id": "188fda76",
   "metadata": {},
   "source": [
    "# MATHEMATICS"
   ]
  },
  {
   "cell_type": "markdown",
   "id": "041b3e13",
   "metadata": {},
   "source": [
    "## Arithemetic"
   ]
  },
  {
   "cell_type": "code",
   "execution_count": null,
   "id": "4357e6fc",
   "metadata": {},
   "outputs": [],
   "source": [
    "arr = np.array([[1, 2], [3, 4]])\n",
    "\n",
    "# Add 1 to element values\n",
    "print(repr(arr + 1))\n",
    "\n",
    "# Subtract element values by 1.2\n",
    "print(repr(arr - 1.2))\n",
    "\n",
    "# Double element values\n",
    "print(repr(arr * 2))\n",
    "\n",
    "# Halve element values\n",
    "print(repr(arr / 2))\n",
    "\n",
    "# Integer division (half)\n",
    "print(repr(arr // 2))\n",
    "\n",
    "# Square element values\n",
    "print(repr(arr**2))\n",
    "\n",
    "# Square root element values\n",
    "print(repr(arr**0.5))"
   ]
  },
  {
   "cell_type": "code",
   "execution_count": null,
   "id": "7f9cd427",
   "metadata": {},
   "outputs": [],
   "source": [
    "def f2c(temps):\n",
    "  return (5/9)*(temps-32)\n",
    "\n",
    "fahrenheits = np.array([32, -4, 14, -40])\n",
    "celsius = f2c(fahrenheits)\n",
    "print('Celsius: {}'.format(repr(celsius)))"
   ]
  },
  {
   "cell_type": "markdown",
   "id": "62a615d9",
   "metadata": {},
   "source": [
    "## Non-linear Functions"
   ]
  },
  {
   "cell_type": "code",
   "execution_count": null,
   "id": "7eedb54a",
   "metadata": {},
   "outputs": [],
   "source": [
    "arr = np.array([[1, 2], [3, 4]])\n",
    "\n",
    "# Raised to power of e\n",
    "print(repr(np.exp(arr)))\n",
    "\n",
    "# Raised to power of 2\n",
    "print(repr(np.exp2(arr)))\n",
    "\n",
    "arr2 = np.array([[1, 10], [np.e, np.pi]])\n",
    "\n",
    "# Natural logarithm\n",
    "print(repr(np.log(arr2)))\n",
    "\n",
    "# Base 10 logarithm\n",
    "print(repr(np.log10(arr2)))"
   ]
  },
  {
   "cell_type": "code",
   "execution_count": null,
   "id": "ad249717",
   "metadata": {},
   "outputs": [],
   "source": [
    "arr = np.array([[1, 2], [3, 4]])\n",
    "\n",
    "# Raise 3 to power of each number in arr\n",
    "print(repr(np.power(3, arr)))\n",
    "\n",
    "arr2 = np.array([[10.2, 4], [3, 5]])\n",
    "\n",
    "# Raise arr2 to power of each number in arr\n",
    "print(repr(np.power(arr2, arr)))"
   ]
  },
  {
   "cell_type": "markdown",
   "id": "cab0639b",
   "metadata": {},
   "source": [
    "## Matrix Multiplication"
   ]
  },
  {
   "cell_type": "code",
   "execution_count": null,
   "id": "04bbab06",
   "metadata": {},
   "outputs": [],
   "source": [
    "# Required condition = (m x n) * (n x k) - results in (m, k) dimensions\n",
    "\n",
    "arr1 = np.array([1, 2, 3])\n",
    "arr2 = np.array([-3, 0, 10])\n",
    "\n",
    "print(np.matmul(arr1, arr2)) # Multiplying 1D & 1D results in dot product\n",
    "\n",
    "arr3 = np.array([[1, 2],\n",
    "                 [3, 4],\n",
    "                 [5, 6]])\n",
    "\n",
    "arr4 = np.array([[-1, 0, 1], \n",
    "                 [3, 2, -4]])\n",
    "\n",
    "print(repr(np.matmul(arr3, arr4)))\n",
    "print(repr(np.matmul(arr4, arr3)))\n",
    "\n",
    "# This will result in ValueError\n",
    "print(repr(np.matmul(arr3, arr3)))"
   ]
  },
  {
   "cell_type": "markdown",
   "id": "2ece5838",
   "metadata": {},
   "source": [
    "# RANDOM"
   ]
  },
  {
   "cell_type": "markdown",
   "id": "61b6ceff",
   "metadata": {},
   "source": [
    "## Generate Random"
   ]
  },
  {
   "cell_type": "code",
   "execution_count": null,
   "id": "dd378ee6",
   "metadata": {},
   "outputs": [],
   "source": [
    "# Random integer is chosen uniformly from the range [0, n).\n",
    "print(np.random.randint(5))\n",
    "print(np.random.randint(5))\n",
    "\n",
    "# Random integer is chosen uniformly from the range [5, 6).\n",
    "print(np.random.randint(5, high=6))\n",
    "\n",
    "# Multi dimensonal\n",
    "random_arr = np.random.randint(-3, high=14,size=(2, 5, 3))\n",
    "print(repr(random_arr))"
   ]
  },
  {
   "cell_type": "markdown",
   "id": "7e9e4888",
   "metadata": {},
   "source": [
    "## Generate Random with Seed"
   ]
  },
  {
   "cell_type": "code",
   "execution_count": null,
   "id": "78b66100",
   "metadata": {},
   "outputs": [],
   "source": [
    "np.random.seed(1)\n",
    "print(np.random.randint(10))\n",
    "random_arr = np.random.randint(3, high=100,\n",
    "                               size=(2, 2))\n",
    "print(repr(random_arr))\n",
    "\n",
    "# New seed\n",
    "np.random.seed(2)\n",
    "print(np.random.randint(10))\n",
    "random_arr = np.random.randint(3, high=100,\n",
    "                               size=(2, 2))\n",
    "print(repr(random_arr))\n",
    "\n",
    "# Original seed\n",
    "np.random.seed(1)\n",
    "print(np.random.randint(10))\n",
    "random_arr = np.random.randint(3, high=100,\n",
    "                               size=(2, 2))\n",
    "print(repr(random_arr))"
   ]
  },
  {
   "cell_type": "markdown",
   "id": "9ead01c9",
   "metadata": {},
   "source": [
    "## Shuffle"
   ]
  },
  {
   "cell_type": "code",
   "execution_count": null,
   "id": "16ee558c",
   "metadata": {},
   "outputs": [],
   "source": [
    "vec = np.array([1, 2, 3, 4, 5])\n",
    "np.random.shuffle(vec)\n",
    "print(repr(vec))\n",
    "np.random.shuffle(vec)\n",
    "print(repr(vec))\n",
    "\n",
    "matrix = np.array([[1, 2, 3],\n",
    "                   [4, 5, 6],\n",
    "                   [7, 8, 9]])\n",
    "np.random.shuffle(matrix)\n",
    "print(repr(matrix))"
   ]
  },
  {
   "cell_type": "markdown",
   "id": "c0b32c2f",
   "metadata": {},
   "source": [
    "## Random from Distribution"
   ]
  },
  {
   "cell_type": "markdown",
   "id": "1d90de2e",
   "metadata": {},
   "source": [
    "* __Uniform Distribution__"
   ]
  },
  {
   "cell_type": "code",
   "execution_count": null,
   "id": "1f504c2e",
   "metadata": {},
   "outputs": [],
   "source": [
    "print(np.random.uniform()) # Default [0.0, 1.0)\n",
    "print(np.random.uniform(low=-1.5, high=2.2))\n",
    "print(repr(np.random.uniform(size=3)))\n",
    "print(repr(np.random.uniform(low=-3.4, high=5.9,\n",
    "                             size=(2, 2))))"
   ]
  },
  {
   "cell_type": "markdown",
   "id": "d2b56b9b",
   "metadata": {},
   "source": [
    "* __Gaussian / Normal Distribution__"
   ]
  },
  {
   "cell_type": "code",
   "execution_count": null,
   "id": "e8c88bdc",
   "metadata": {},
   "outputs": [],
   "source": [
    "print(np.random.normal())\n",
    "# loc = mean, scale = standard deviation\n",
    "print(np.random.normal(loc=1.5, scale=3.5))\n",
    "print(repr(np.random.normal(loc=-2.4, scale=4.0,\n",
    "                            size=(2, 2))))"
   ]
  },
  {
   "cell_type": "markdown",
   "id": "4a06a379",
   "metadata": {},
   "source": [
    "* __Custom Distribution__"
   ]
  },
  {
   "cell_type": "code",
   "execution_count": null,
   "id": "87d5e717",
   "metadata": {},
   "outputs": [],
   "source": [
    "colors = ['red', 'blue', 'green']\n",
    "print(np.random.choice(colors))\n",
    "print(repr(np.random.choice(colors, size=2)))\n",
    "print(repr(np.random.choice(colors, size=(2, 2),\n",
    "                            p=[0.8, 0.19, 0.01])))"
   ]
  },
  {
   "cell_type": "markdown",
   "id": "854297aa",
   "metadata": {},
   "source": [
    "# INDEXING"
   ]
  },
  {
   "cell_type": "markdown",
   "id": "c3d1c7e7",
   "metadata": {},
   "source": [
    "## Accessing"
   ]
  },
  {
   "cell_type": "code",
   "execution_count": 7,
   "id": "6696f8f7",
   "metadata": {},
   "outputs": [
    {
     "name": "stdout",
     "output_type": "stream",
     "text": [
      "1\n",
      "5\n",
      "array([6, 3])\n"
     ]
    }
   ],
   "source": [
    "arr = np.array([1, 2, 3, 4, 5])\n",
    "print(arr[0])\n",
    "print(arr[4])\n",
    "\n",
    "arr = np.array([[6, 3], [0, 2]])\n",
    "# Subarray\n",
    "print(repr(arr[0]))"
   ]
  },
  {
   "cell_type": "markdown",
   "id": "a8fae707",
   "metadata": {},
   "source": [
    "## Slicing"
   ]
  },
  {
   "cell_type": "code",
   "execution_count": 8,
   "id": "e38cd43b",
   "metadata": {
    "scrolled": true
   },
   "outputs": [
    {
     "name": "stdout",
     "output_type": "stream",
     "text": [
      "array([1, 2, 3, 4, 5])\n",
      "array([2, 3, 4, 5])\n",
      "array([3, 4])\n",
      "array([1, 2, 3, 4])\n",
      "array([4, 5])\n"
     ]
    }
   ],
   "source": [
    "arr = np.array([1, 2, 3, 4, 5])\n",
    "print(repr(arr[:]))\n",
    "print(repr(arr[1:]))\n",
    "print(repr(arr[2:4]))\n",
    "print(repr(arr[:-1]))\n",
    "print(repr(arr[-2:]))"
   ]
  },
  {
   "cell_type": "code",
   "execution_count": 9,
   "id": "2eec6af3",
   "metadata": {},
   "outputs": [
    {
     "name": "stdout",
     "output_type": "stream",
     "text": [
      "array([[1, 2, 3],\n",
      "       [4, 5, 6],\n",
      "       [7, 8, 9]])\n",
      "array([[4, 5, 6],\n",
      "       [7, 8, 9]])\n",
      "array([3, 6, 9])\n",
      "array([[2, 3],\n",
      "       [5, 6],\n",
      "       [8, 9]])\n",
      "array([[2, 3]])\n",
      "array([2, 3])\n"
     ]
    }
   ],
   "source": [
    "arr = np.array([[1, 2, 3],\n",
    "                [4, 5, 6],\n",
    "                [7, 8, 9]])\n",
    "print(repr(arr[:]))\n",
    "print(repr(arr[1:]))\n",
    "print(repr(arr[:, -1]))\n",
    "print(repr(arr[:, 1:]))\n",
    "print(repr(arr[0:1, 1:]))\n",
    "print(repr(arr[0, 1:]))"
   ]
  },
  {
   "cell_type": "markdown",
   "id": "15d588af",
   "metadata": {},
   "source": [
    "## Argmin & Argmax"
   ]
  },
  {
   "cell_type": "code",
   "execution_count": 10,
   "id": "d9334e4f",
   "metadata": {},
   "outputs": [
    {
     "name": "stdout",
     "output_type": "stream",
     "text": [
      "2\n",
      "1\n",
      "5\n"
     ]
    }
   ],
   "source": [
    "arr = np.array([[-2, -1, -3],\n",
    "                [4, 5, -6],\n",
    "                [-3, 9, 1]])\n",
    "print(np.argmin(arr[0]))\n",
    "print(np.argmax(arr[2]))\n",
    "print(np.argmin(arr))"
   ]
  },
  {
   "cell_type": "code",
   "execution_count": 13,
   "id": "27cd07b6",
   "metadata": {},
   "outputs": [
    {
     "name": "stdout",
     "output_type": "stream",
     "text": [
      "array([2, 0, 1])\n",
      "array([2, 2, 0])\n",
      "array([1, 1, 1])\n"
     ]
    }
   ],
   "source": [
    "# Using axis=0 meant the function found the index of \n",
    "# the minimum row element for each column. \n",
    "\n",
    "arr = np.array([[-2, -1, -3],\n",
    "                [4, 5, -6],\n",
    "                [-3, 9, 1]])\n",
    "print(repr(np.argmin(arr, axis=0)))\n",
    "\n",
    "# When we used axis=1, the function found the index of \n",
    "# the minimum column element for each row.\n",
    "\n",
    "print(repr(np.argmin(arr, axis=1)))\n",
    "print(repr(np.argmax(arr, axis=-1)))"
   ]
  },
  {
   "cell_type": "markdown",
   "id": "d25847c2",
   "metadata": {},
   "source": [
    "# FILTERING"
   ]
  },
  {
   "cell_type": "markdown",
   "id": "bf0e829b",
   "metadata": {},
   "source": [
    "__Get Boolean Array__"
   ]
  },
  {
   "cell_type": "code",
   "execution_count": 15,
   "id": "9befd226",
   "metadata": {
    "scrolled": true
   },
   "outputs": [
    {
     "name": "stdout",
     "output_type": "stream",
     "text": [
      "array([[False, False,  True],\n",
      "       [False,  True, False],\n",
      "       [False, False, False]])\n",
      "array([[False,  True,  True],\n",
      "       [ True,  True, False],\n",
      "       [False, False,  True]])\n",
      "array([[ True,  True,  True],\n",
      "       [False,  True,  True],\n",
      "       [ True,  True, False]])\n",
      "array([[False, False, False],\n",
      "       [ True, False, False],\n",
      "       [False, False,  True]])\n"
     ]
    }
   ],
   "source": [
    "arr = np.array([[0, 2, 3],\n",
    "                [1, 3, -6],\n",
    "                [-3, -2, 1]])\n",
    "\n",
    "print(repr(arr == 3))\n",
    "print(repr(arr > 0))\n",
    "print(repr(arr != 1))\n",
    "\n",
    "# Negated from the previous step\n",
    "print(repr(~(arr != 1)))"
   ]
  },
  {
   "cell_type": "markdown",
   "id": "ba56e69b",
   "metadata": {},
   "source": [
    "__NAN__"
   ]
  },
  {
   "cell_type": "code",
   "execution_count": 16,
   "id": "753da40a",
   "metadata": {},
   "outputs": [
    {
     "name": "stdout",
     "output_type": "stream",
     "text": [
      "array([[False, False,  True],\n",
      "       [False,  True, False],\n",
      "       [ True, False, False]])\n"
     ]
    }
   ],
   "source": [
    "arr = np.array([[0, 2, np.nan],\n",
    "                [1, np.nan, -6],\n",
    "                [np.nan, -2, 1]])\n",
    "print(repr(np.isnan(arr)))"
   ]
  },
  {
   "cell_type": "markdown",
   "id": "6421c434",
   "metadata": {},
   "source": [
    "__Where__"
   ]
  },
  {
   "cell_type": "code",
   "execution_count": 19,
   "id": "0b94f511",
   "metadata": {},
   "outputs": [
    {
     "name": "stdout",
     "output_type": "stream",
     "text": [
      "(array([0, 2]),)\n",
      "(array([1, 3]),)\n",
      "array([0, 0, 1, 2])\n",
      "array([1, 2, 0, 0])\n",
      "array([ 2,  3,  1, -3])\n"
     ]
    }
   ],
   "source": [
    "print(repr(np.where([True, False, True])))\n",
    "\n",
    "arr = np.array([0, 3, 5, 3, 1])\n",
    "print(repr(np.where(arr == 3)))\n",
    "\n",
    "arr = np.array([[0, 2, 3],\n",
    "                [1, 0, 0],\n",
    "                [-3, 0, 0]])\n",
    "\n",
    "x_ind, y_ind = np.where(arr != 0)\n",
    "\n",
    "print(repr(x_ind)) # x indices of non-zero elements\n",
    "print(repr(y_ind)) # y indices of non-zero elements\n",
    "print(repr(arr[x_ind, y_ind]))"
   ]
  },
  {
   "cell_type": "markdown",
   "id": "d939af81",
   "metadata": {},
   "source": [
    "__Multi Arg Where__"
   ]
  },
  {
   "cell_type": "code",
   "execution_count": 23,
   "id": "432be4d1",
   "metadata": {},
   "outputs": [
    {
     "name": "stdout",
     "output_type": "stream",
     "text": [
      "array([[ 1, -5],\n",
      "       [-1,  4]])\n",
      "array([[-2, -5],\n",
      "       [ 3,  4]])\n",
      "array([[-2, -5],\n",
      "       [-1, -8]])\n"
     ]
    }
   ],
   "source": [
    "np_filter = np.array([[True, False], \n",
    "                      [False, True]])\n",
    "\n",
    "positives = np.array([[1, 2], \n",
    "                      [3, 4]])\n",
    "\n",
    "negatives = np.array([[-2, -5], \n",
    "                      [-1, -8]])\n",
    "\n",
    "print(repr(np.where(np_filter, positives, negatives)))\n",
    "\n",
    "np_filter = positives > 2\n",
    "print(repr(np.where(np_filter, positives, negatives)))\n",
    "\n",
    "np_filter = negatives > 0\n",
    "print(repr(np.where(np_filter, positives, negatives)))"
   ]
  },
  {
   "cell_type": "markdown",
   "id": "28acdb69",
   "metadata": {},
   "source": [
    "__Replace with Constant Upon Unsatisfied Condition__"
   ]
  },
  {
   "cell_type": "code",
   "execution_count": 24,
   "id": "cd45c53e",
   "metadata": {},
   "outputs": [
    {
     "name": "stdout",
     "output_type": "stream",
     "text": [
      "array([[ 1, -1],\n",
      "       [-1,  4]])\n"
     ]
    }
   ],
   "source": [
    "np_filter = np.array([[True, False], [False, True]])\n",
    "positives = np.array([[1, 2], [3, 4]])\n",
    "print(repr(np.where(np_filter, positives, -1)))"
   ]
  },
  {
   "cell_type": "markdown",
   "id": "3c453415",
   "metadata": {},
   "source": [
    "__Conditional / Any / All__"
   ]
  },
  {
   "cell_type": "code",
   "execution_count": 29,
   "id": "afbfa35b",
   "metadata": {
    "scrolled": true
   },
   "outputs": [
    {
     "name": "stdout",
     "output_type": "stream",
     "text": [
      "array([[False, False, False],\n",
      "       [ True,  True, False],\n",
      "       [ True,  True,  True]])\n",
      "True\n",
      "False\n",
      "array([ True,  True,  True])\n",
      "array([False,  True,  True])\n",
      "array([False, False,  True])\n"
     ]
    }
   ],
   "source": [
    "arr = np.array([[-2, -1, -3],\n",
    "                [4, 5, -6],\n",
    "                [3, 9, 1]])\n",
    "print(repr(arr > 0))\n",
    "print(np.any(arr > 0))\n",
    "print(np.all(arr > 0))\n",
    "\n",
    "print(repr(np.any(arr > 0, axis=0))) # Col\n",
    "print(repr(np.any(arr > 0, axis=1))) # Row\n",
    "print(repr(np.all(arr > 0, axis=1))) # Row"
   ]
  },
  {
   "cell_type": "code",
   "execution_count": 31,
   "id": "5995be4f",
   "metadata": {},
   "outputs": [
    {
     "name": "stdout",
     "output_type": "stream",
     "text": [
      "[False  True  True]\n",
      "array([[ 4,  5, -6],\n",
      "       [ 3,  9,  1]])\n"
     ]
    }
   ],
   "source": [
    "arr = np.array([[-2, -1, -3],\n",
    "                [4, 5, -6],\n",
    "                [3, 9, 1]])\n",
    "has_positive = np.any(arr > 0, axis=1) # Col\n",
    "print(has_positive)\n",
    "print(repr(arr[np.where(has_positive)]))"
   ]
  },
  {
   "cell_type": "markdown",
   "id": "fb642b73",
   "metadata": {},
   "source": [
    "# STATISTICS\n",
    "https://numpy.org/doc/stable/reference/routines.statistics.html"
   ]
  },
  {
   "cell_type": "markdown",
   "id": "2e7594b9",
   "metadata": {},
   "source": [
    "## Analysis"
   ]
  },
  {
   "cell_type": "code",
   "execution_count": 35,
   "id": "62f271b6",
   "metadata": {},
   "outputs": [
    {
     "name": "stdout",
     "output_type": "stream",
     "text": [
      "-60\n",
      "72\n",
      "array([ -3,  -2, -60])\n",
      "array([72,  3,  4])\n"
     ]
    }
   ],
   "source": [
    "arr = np.array([[0, 72, 3],\n",
    "                [1, 3, -60],\n",
    "                [-3, -2, 4]])\n",
    "print(arr.min())\n",
    "print(arr.max())\n",
    "\n",
    "print(repr(arr.min(axis=0)))\n",
    "print(repr(arr.max(axis=-1)))"
   ]
  },
  {
   "cell_type": "markdown",
   "id": "f1cd30a7",
   "metadata": {},
   "source": [
    "## Statistical Metrics"
   ]
  },
  {
   "cell_type": "code",
   "execution_count": 36,
   "id": "1af1b4ce",
   "metadata": {},
   "outputs": [
    {
     "name": "stdout",
     "output_type": "stream",
     "text": [
      "2.0\n",
      "977.3333333333334\n",
      "1.0\n",
      "array([ 3.,  1., -2.])\n"
     ]
    }
   ],
   "source": [
    "arr = np.array([[0, 72, 3],\n",
    "                [1, 3, -60],\n",
    "                [-3, -2, 4]])\n",
    "print(np.mean(arr)) # Mean\n",
    "print(np.var(arr)) # Variance\n",
    "print(np.median(arr)) # Median\n",
    "print(repr(np.median(arr, axis=-1)))"
   ]
  },
  {
   "cell_type": "markdown",
   "id": "5d76b1e6",
   "metadata": {},
   "source": [
    "# AGGREGATION"
   ]
  },
  {
   "cell_type": "markdown",
   "id": "c7b1173c",
   "metadata": {},
   "source": [
    "## Summation"
   ]
  },
  {
   "cell_type": "markdown",
   "id": "8a0a2236",
   "metadata": {},
   "source": [
    "__Axis wise sum__"
   ]
  },
  {
   "cell_type": "code",
   "execution_count": 39,
   "id": "6bde08a2",
   "metadata": {},
   "outputs": [
    {
     "name": "stdout",
     "output_type": "stream",
     "text": [
      "18\n",
      "array([ -2,  73, -53])\n",
      "array([ 75, -56,  -1])\n"
     ]
    }
   ],
   "source": [
    "arr = np.array([[0, 72, 3],\n",
    "                [1, 3, -60],\n",
    "                [-3, -2, 4]])\n",
    "print(np.sum(arr))\n",
    "print(repr(np.sum(arr, axis=0))) # Col\n",
    "print(repr(np.sum(arr, axis=1))) # Row"
   ]
  },
  {
   "cell_type": "markdown",
   "id": "5324885a",
   "metadata": {},
   "source": [
    "__Cumulative Sum__"
   ]
  },
  {
   "cell_type": "code",
   "execution_count": 40,
   "id": "f198f7e3",
   "metadata": {},
   "outputs": [
    {
     "name": "stdout",
     "output_type": "stream",
     "text": [
      "array([ 0, 72, 75, 76, 79, 19, 16, 14, 18])\n",
      "array([[  0,  72,   3],\n",
      "       [  1,  75, -57],\n",
      "       [ -2,  73, -53]])\n",
      "array([[  0,  72,  75],\n",
      "       [  1,   4, -56],\n",
      "       [ -3,  -5,  -1]])\n"
     ]
    }
   ],
   "source": [
    "arr = np.array([[0, 72, 3],\n",
    "                [1, 3, -60],\n",
    "                [-3, -2, 4]])\n",
    "print(repr(np.cumsum(arr)))\n",
    "print(repr(np.cumsum(arr, axis=0)))\n",
    "print(repr(np.cumsum(arr, axis=1)))"
   ]
  },
  {
   "cell_type": "markdown",
   "id": "74cd2be6",
   "metadata": {},
   "source": [
    "## Concatenation"
   ]
  },
  {
   "cell_type": "code",
   "execution_count": 42,
   "id": "a2a09a14",
   "metadata": {},
   "outputs": [
    {
     "name": "stdout",
     "output_type": "stream",
     "text": [
      "array([[  0,  72,   3],\n",
      "       [  1,   3, -60],\n",
      "       [ -3,  -2,   4],\n",
      "       [-15,   6,   1],\n",
      "       [  8,   9,  -4],\n",
      "       [  5, -21,  18]])\n",
      "array([[  0,  72,   3, -15,   6,   1],\n",
      "       [  1,   3, -60,   8,   9,  -4],\n",
      "       [ -3,  -2,   4,   5, -21,  18]])\n",
      "array([[-15,   6,   1,   0,  72,   3],\n",
      "       [  8,   9,  -4,   1,   3, -60],\n",
      "       [  5, -21,  18,  -3,  -2,   4]])\n",
      "array([[  0,  72,   3],\n",
      "       [  1,   3, -60],\n",
      "       [ -3,  -2,   4],\n",
      "       [-15,   6,   1],\n",
      "       [  8,   9,  -4],\n",
      "       [  5, -21,  18]])\n",
      "array([[-15,   6,   1],\n",
      "       [  8,   9,  -4],\n",
      "       [  5, -21,  18],\n",
      "       [  0,  72,   3],\n",
      "       [  1,   3, -60],\n",
      "       [ -3,  -2,   4]])\n"
     ]
    }
   ],
   "source": [
    "arr1 = np.array([[0, 72, 3],\n",
    "                 [1, 3, -60],\n",
    "                 [-3, -2, 4]])\n",
    "arr2 = np.array([[-15, 6, 1],\n",
    "                 [8, 9, -4],\n",
    "                 [5, -21, 18]])\n",
    "print(repr(np.concatenate([arr1, arr2])))\n",
    "print(repr(np.concatenate([arr1, arr2], axis=1)))\n",
    "print(repr(np.concatenate([arr2, arr1], axis=1)))\n",
    "print(repr(np.concatenate([arr1, arr2], axis=0)))\n",
    "print(repr(np.concatenate([arr2, arr1], axis=0)))"
   ]
  }
 ],
 "metadata": {
  "kernelspec": {
   "display_name": "Python 3",
   "language": "python",
   "name": "python3"
  },
  "language_info": {
   "codemirror_mode": {
    "name": "ipython",
    "version": 3
   },
   "file_extension": ".py",
   "mimetype": "text/x-python",
   "name": "python",
   "nbconvert_exporter": "python",
   "pygments_lexer": "ipython3",
   "version": "3.9.4"
  }
 },
 "nbformat": 4,
 "nbformat_minor": 5
}
